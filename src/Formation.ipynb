{
 "cells": [
  {
   "cell_type": "code",
   "execution_count": 1,
   "metadata": {},
   "outputs": [],
   "source": [
    "import pandas as pd\n",
    "import numpy as np\n",
    "from matplotlib import pyplot as plt\n",
    "import os\n",
    "import csv"
   ]
  },
  {
   "cell_type": "code",
   "execution_count": 2,
   "metadata": {},
   "outputs": [],
   "source": [
    "fixtures_file_path = os.getcwd()[:-4] + '\\\\csvData\\\\fixtures\\\\fixtures.csv'\n",
    "fixtures_data = pd.read_csv(fixtures_file_path)\n",
    "\n",
    "# fixtures_data['home_form'].value_counts().sum()\n",
    "# fixtures_data['away_form'].value_counts().sum()\n",
    "# fixtures_data['ht_score'].value_counts().sum()"
   ]
  },
  {
   "cell_type": "code",
   "execution_count": 3,
   "metadata": {
    "scrolled": true
   },
   "outputs": [
    {
     "data": {
      "text/plain": [
       "league           object\n",
       "match_id          int64\n",
       "home_tean_id      int64\n",
       "away_tean_id      int64\n",
       "home_form        object\n",
       "away_form        object\n",
       "hft_score       float64\n",
       "aft_score       float64\n",
       "hht_score        object\n",
       "aht_score        object\n",
       "dtype: object"
      ]
     },
     "execution_count": 3,
     "metadata": {},
     "output_type": "execute_result"
    }
   ],
   "source": [
    "df = fixtures_data[[\"league\", \"match_id\", 'home_tean_id', 'away_tean_id', 'home_form', 'away_form', 'ht_score', 'home_score', 'away_score']]\n",
    "df = df.dropna()\n",
    "df[['hht_score','aht_score']] = df.ht_score.str.split(\"-\",expand=True)\n",
    "df = df.drop(columns=['ht_score'])\n",
    "df = df.rename(columns={'home_score': 'hft_score','away_score': 'aft_score'} )\n",
    "# df = df.iloc['home_score'].apply(int)\n",
    "df.dtypes"
   ]
  },
  {
   "cell_type": "code",
   "execution_count": 4,
   "metadata": {
    "scrolled": false
   },
   "outputs": [
    {
     "data": {
      "text/html": [
       "<div>\n",
       "<style scoped>\n",
       "    .dataframe tbody tr th:only-of-type {\n",
       "        vertical-align: middle;\n",
       "    }\n",
       "\n",
       "    .dataframe tbody tr th {\n",
       "        vertical-align: top;\n",
       "    }\n",
       "\n",
       "    .dataframe thead th {\n",
       "        text-align: right;\n",
       "    }\n",
       "</style>\n",
       "<table border=\"1\" class=\"dataframe\">\n",
       "  <thead>\n",
       "    <tr style=\"text-align: right;\">\n",
       "      <th></th>\n",
       "      <th>league</th>\n",
       "      <th>match_id</th>\n",
       "      <th>home_tean_id</th>\n",
       "      <th>away_tean_id</th>\n",
       "      <th>home_form</th>\n",
       "      <th>away_form</th>\n",
       "      <th>hft_score</th>\n",
       "      <th>aft_score</th>\n",
       "      <th>hht_score</th>\n",
       "      <th>aht_score</th>\n",
       "    </tr>\n",
       "  </thead>\n",
       "  <tbody>\n",
       "    <tr>\n",
       "      <th>2592</th>\n",
       "      <td>K1</td>\n",
       "      <td>8652699</td>\n",
       "      <td>3690</td>\n",
       "      <td>3695</td>\n",
       "      <td>4-3-3</td>\n",
       "      <td>3-4-3</td>\n",
       "      <td>1</td>\n",
       "      <td>0</td>\n",
       "      <td>0</td>\n",
       "      <td>0</td>\n",
       "    </tr>\n",
       "    <tr>\n",
       "      <th>2594</th>\n",
       "      <td>K1</td>\n",
       "      <td>8653704</td>\n",
       "      <td>3694</td>\n",
       "      <td>3698</td>\n",
       "      <td>4-5-1</td>\n",
       "      <td>4-3-3</td>\n",
       "      <td>4</td>\n",
       "      <td>0</td>\n",
       "      <td>2</td>\n",
       "      <td>0</td>\n",
       "    </tr>\n",
       "    <tr>\n",
       "      <th>2600</th>\n",
       "      <td>K1</td>\n",
       "      <td>8653710</td>\n",
       "      <td>3696</td>\n",
       "      <td>3691</td>\n",
       "      <td>3-4-3</td>\n",
       "      <td>3-4-3</td>\n",
       "      <td>0</td>\n",
       "      <td>0</td>\n",
       "      <td>0</td>\n",
       "      <td>0</td>\n",
       "    </tr>\n",
       "    <tr>\n",
       "      <th>2601</th>\n",
       "      <td>K1</td>\n",
       "      <td>8653711</td>\n",
       "      <td>4227</td>\n",
       "      <td>3693</td>\n",
       "      <td>4-4-2</td>\n",
       "      <td>4-4-2</td>\n",
       "      <td>0</td>\n",
       "      <td>2</td>\n",
       "      <td>0</td>\n",
       "      <td>2</td>\n",
       "    </tr>\n",
       "    <tr>\n",
       "      <th>2603</th>\n",
       "      <td>K1</td>\n",
       "      <td>8654660</td>\n",
       "      <td>3701</td>\n",
       "      <td>3704</td>\n",
       "      <td>4-2-3-1</td>\n",
       "      <td>4-3-3</td>\n",
       "      <td>2</td>\n",
       "      <td>0</td>\n",
       "      <td>1</td>\n",
       "      <td>0</td>\n",
       "    </tr>\n",
       "    <tr>\n",
       "      <th>...</th>\n",
       "      <td>...</td>\n",
       "      <td>...</td>\n",
       "      <td>...</td>\n",
       "      <td>...</td>\n",
       "      <td>...</td>\n",
       "      <td>...</td>\n",
       "      <td>...</td>\n",
       "      <td>...</td>\n",
       "      <td>...</td>\n",
       "      <td>...</td>\n",
       "    </tr>\n",
       "    <tr>\n",
       "      <th>21632</th>\n",
       "      <td>BZ</td>\n",
       "      <td>31236754</td>\n",
       "      <td>2224</td>\n",
       "      <td>864</td>\n",
       "      <td>4-4-2</td>\n",
       "      <td>4-2-3-1</td>\n",
       "      <td>1</td>\n",
       "      <td>5</td>\n",
       "      <td>0</td>\n",
       "      <td>1</td>\n",
       "    </tr>\n",
       "    <tr>\n",
       "      <th>21633</th>\n",
       "      <td>BZ</td>\n",
       "      <td>31236755</td>\n",
       "      <td>2217</td>\n",
       "      <td>870</td>\n",
       "      <td>4-1-3-2</td>\n",
       "      <td>4-3-1-2</td>\n",
       "      <td>2</td>\n",
       "      <td>0</td>\n",
       "      <td>2</td>\n",
       "      <td>0</td>\n",
       "    </tr>\n",
       "    <tr>\n",
       "      <th>21636</th>\n",
       "      <td>BZ</td>\n",
       "      <td>31236747</td>\n",
       "      <td>869</td>\n",
       "      <td>2228</td>\n",
       "      <td>4-3-3</td>\n",
       "      <td>4-3-3</td>\n",
       "      <td>0</td>\n",
       "      <td>0</td>\n",
       "      <td>0</td>\n",
       "      <td>0</td>\n",
       "    </tr>\n",
       "    <tr>\n",
       "      <th>21637</th>\n",
       "      <td>BZ</td>\n",
       "      <td>31236749</td>\n",
       "      <td>2223</td>\n",
       "      <td>2214</td>\n",
       "      <td>4-2-3-1</td>\n",
       "      <td>4-1-4-1</td>\n",
       "      <td>3</td>\n",
       "      <td>1</td>\n",
       "      <td>0</td>\n",
       "      <td>1</td>\n",
       "    </tr>\n",
       "    <tr>\n",
       "      <th>21638</th>\n",
       "      <td>BZ</td>\n",
       "      <td>35237032</td>\n",
       "      <td>870</td>\n",
       "      <td>2224</td>\n",
       "      <td>4-2-3-1</td>\n",
       "      <td>4-2-3-1</td>\n",
       "      <td>1</td>\n",
       "      <td>2</td>\n",
       "      <td>0</td>\n",
       "      <td>1</td>\n",
       "    </tr>\n",
       "  </tbody>\n",
       "</table>\n",
       "<p>3825 rows × 10 columns</p>\n",
       "</div>"
      ],
      "text/plain": [
       "      league  match_id  home_tean_id  away_tean_id home_form away_form  \\\n",
       "2592      K1   8652699          3690          3695     4-3-3     3-4-3   \n",
       "2594      K1   8653704          3694          3698     4-5-1     4-3-3   \n",
       "2600      K1   8653710          3696          3691     3-4-3     3-4-3   \n",
       "2601      K1   8653711          4227          3693     4-4-2     4-4-2   \n",
       "2603      K1   8654660          3701          3704   4-2-3-1     4-3-3   \n",
       "...      ...       ...           ...           ...       ...       ...   \n",
       "21632     BZ  31236754          2224           864     4-4-2   4-2-3-1   \n",
       "21633     BZ  31236755          2217           870   4-1-3-2   4-3-1-2   \n",
       "21636     BZ  31236747           869          2228     4-3-3     4-3-3   \n",
       "21637     BZ  31236749          2223          2214   4-2-3-1   4-1-4-1   \n",
       "21638     BZ  35237032           870          2224   4-2-3-1   4-2-3-1   \n",
       "\n",
       "       hft_score  aft_score  hht_score  aht_score  \n",
       "2592           1          0          0          0  \n",
       "2594           4          0          2          0  \n",
       "2600           0          0          0          0  \n",
       "2601           0          2          0          2  \n",
       "2603           2          0          1          0  \n",
       "...          ...        ...        ...        ...  \n",
       "21632          1          5          0          1  \n",
       "21633          2          0          2          0  \n",
       "21636          0          0          0          0  \n",
       "21637          3          1          0          1  \n",
       "21638          1          2          0          1  \n",
       "\n",
       "[3825 rows x 10 columns]"
      ]
     },
     "execution_count": 4,
     "metadata": {},
     "output_type": "execute_result"
    }
   ],
   "source": [
    "df['hft_score'] = df['hft_score'].astype(np.int64)\n",
    "df['aft_score'] = df['aft_score'].astype(np.int64)\n",
    "df['hht_score'] = df['hht_score'].astype(np.int64)\n",
    "df['aht_score'] = df['aht_score'].astype(np.int64)\n",
    "df"
   ]
  },
  {
   "cell_type": "code",
   "execution_count": 5,
   "metadata": {},
   "outputs": [
    {
     "data": {
      "image/png": "[encoded data removed]",
      "text/plain": [
       "<Figure size 864x360 with 1 Axes>"
      ]
     },
     "metadata": {
      "needs_background": "light"
     },
     "output_type": "display_data"
    }
   ],
   "source": [
    "data_amount = df['league'].value_counts().reset_index(name='counts')\n",
    "\n",
    "labels = data_amount['index']\n",
    "sizes = data_amount['counts']\n",
    "\n",
    "fig = plt.figure(figsize=(12, 5))\n",
    "ax = fig.add_axes([0,0,1,1])\n",
    "ax.bar(data_amount['index'], data_amount['counts'])\n",
    "plt.title(\"Amount data of league\") \n",
    "plt.xlabel(\"League\")\n",
    "\n",
    "plt.show()\n",
    "\n",
    "\n",
    "# plt.ylabel(\"height\")\n",
    "\n",
    "# fig1, ax1 = plt.subplots()\n",
    "# ax1.pie(sizes, labels=labels, shadow=True, startangle=90)\n",
    "# ax1.axis('equal')\n",
    "# plt.show()"
   ]
  },
  {
   "cell_type": "code",
   "execution_count": 6,
   "metadata": {
    "scrolled": true
   },
   "outputs": [
    {
     "data": {
      "text/plain": [
       "league           USA\n",
       "home_form    4-2-3-1\n",
       "away_form    4-2-3-1\n",
       "Time             109\n",
       "Name: 860, dtype: object"
      ]
     },
     "execution_count": 6,
     "metadata": {},
     "output_type": "execute_result"
    }
   ],
   "source": [
    "leg_fomation_frequency = df.groupby([\"league\", \"home_form\", 'away_form']).size().reset_index(name=\"Time\")\n",
    "# leg_fomation_frequency['Time'].argmax()\n",
    "leg_fomation_frequency.iloc[leg_fomation_frequency['Time'].argmax()]"
   ]
  },
  {
   "cell_type": "code",
   "execution_count": 7,
   "metadata": {},
   "outputs": [],
   "source": [
    "# leg_fomation_frequency = df.groupby([\"league\", \"home_form\"]).size().reset_index(name=\"Time\")\n",
    "# leg_fomation_frequency\n",
    "\n",
    "\n",
    "\n",
    "# home_form = df['home_form'].value_counts().reset_index(name='counts')\n",
    "# away_form = df['away_form'].value_counts().reset_index(name='counts')\n",
    "\n",
    "# form = pd.concat([home_form, away_form], axis=0)\n",
    "# form = form.groupby('index').sum()\n",
    "# form"
   ]
  },
  {
   "cell_type": "code",
   "execution_count": 8,
   "metadata": {},
   "outputs": [],
   "source": [
    "# fig = plt.figure(figsize=(12, 5))\n",
    "# ax = fig.add_axes([0,0,1,1])\n",
    "# ax.bar(form.index,form.counts)\n",
    "# plt.show()\n",
    "\n",
    "# fomation_frequency = df.groupby([\"home_form\", \"away_form\"]).size().reset_index(name=\"Time\")\n",
    "# fomation_frequency.max()\n",
    "\n",
    "# fig = plt.figure(figsize = (10, 5)) \n",
    "# plt.bar(courses, values, color ='maroon', width = 0.4) \n",
    "\n",
    "# group_df = df.groupby([\"home_form\", \"away_form\"]).sum()\n",
    "# group_df = group_df.drop(columns=['match_id', 'home_tean_id', 'away_tean_id'])\n",
    "# group_df\n",
    "\n",
    "# group_df.iloc[group_df['hft_score'].argmax()]\n",
    "# group_df.iloc[group_df['hft_score'].argmin()]\n",
    "# group_df.iloc[group_df['hht_score'].argmax()]\n",
    "# group_df.iloc[group_df['aht_score'].argmax()]"
   ]
  }
 ],
 "metadata": {
  "kernelspec": {
   "display_name": "Python 3",
   "language": "python",
   "name": "python3"
  },
  "language_info": {
   "codemirror_mode": {
    "name": "ipython",
    "version": 3
   },
   "file_extension": ".py",
   "mimetype": "text/x-python",
   "name": "python",
   "nbconvert_exporter": "python",
   "pygments_lexer": "ipython3",
   "version": "3.8.3"
  }
 },
 "nbformat": 4,
 "nbformat_minor": 4
}
