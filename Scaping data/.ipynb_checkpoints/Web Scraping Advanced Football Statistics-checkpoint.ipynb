{
 "cells": [
  {
   "cell_type": "markdown",
   "metadata": {},
   "source": [
    "https://github.com/slehkyi/notebooks-for-articles/blob/master/web_scrapping_understatcom_for_xG_dataset.ipynb"
   ]
  },
  {
   "cell_type": "code",
   "execution_count": 2,
   "metadata": {},
   "outputs": [],
   "source": [
    "import numpy as np # linear algebra\n",
    "import pandas as pd # data processing, CSV file I/O (e.g. pd.read_csv)\n",
    "import requests\n",
    "from bs4 import BeautifulSoup"
   ]
  },
  {
   "cell_type": "code",
   "execution_count": 6,
   "metadata": {},
   "outputs": [],
   "source": [
    "# create urls for all seasons of all leagues\n",
    "base_url = 'https://understat.com/league'\n",
    "# leagues = ['EPL']\n",
    "leagues = ['La_liga', 'EPL', 'Bundesliga', 'Serie_A', 'Ligue_1', 'RFPL']\n",
    "seasons = ['2014', '2015', '2016', '2017', '2018']\n",
    "# seasons = ['2014', '2015']"
   ]
  },
  {
   "cell_type": "code",
   "execution_count": 7,
   "metadata": {},
   "outputs": [
    {
     "name": "stdout",
     "output_type": "stream",
     "text": [
      "**************************************************\n",
      "\n",
      "**************************************************\n",
      "\n",
      "**************************************************\n",
      "\n",
      "**************************************************\n",
      "\n",
      "**************************************************\n",
      "\n",
      "**************************************************\n",
      "\n",
      "**************************************************\n",
      "\n",
      "**************************************************\n",
      "\n",
      "**************************************************\n",
      "\n",
      "**************************************************\n",
      "\n",
      "**************************************************\n",
      "\n",
      "**************************************************\n",
      "\n",
      "**************************************************\n",
      "\n",
      "**************************************************\n",
      "\n",
      "**************************************************\n",
      "\n",
      "**************************************************\n",
      "\n",
      "**************************************************\n",
      "\n",
      "**************************************************\n",
      "\n",
      "**************************************************\n",
      "\n",
      "**************************************************\n",
      "\n",
      "**************************************************\n",
      "\n",
      "**************************************************\n",
      "\n",
      "**************************************************\n",
      "\n",
      "**************************************************\n",
      "\n",
      "**************************************************\n",
      "\n",
      "**************************************************\n",
      "\n"
     ]
    }
   ],
   "source": [
    "# Starting with latest data for Spanish league, because I'm a Barcelona fan\n",
    "url = base_url+'/'+leagues[0]+'/'+seasons[1]\n",
    "res = requests.get(url)\n",
    "soup = BeautifulSoup(res.content, \"lxml\")\n",
    "\n",
    "# Based on the structure of the webpage, I found that data is in the JSON variable, under <script> tags\n",
    "scripts = soup.find_all('script')\n",
    "\n",
    "# Check our <script> tags\n",
    "for el in scripts:\n",
    "    print('*'*50)\n",
    "    print(el.text)"
   ]
  },
  {
   "cell_type": "code",
   "execution_count": 15,
   "metadata": {},
   "outputs": [],
   "source": [
    "import json\n",
    "\n",
    "string_with_json_obj = ''\n",
    "\n",
    "# Find data for teams\n",
    "for el in scripts:\n",
    "    if 'teamsData' in str(el):\n",
    "        string_with_json_obj = str(el).strip()\n",
    "\n",
    "# print(string_with_json_obj)\n",
    "\n",
    "# strip unnecessary symbols and get only JSON data\n",
    "ind_start = string_with_json_obj.index(\"('\")+2\n",
    "ind_end = string_with_json_obj.index(\"')\")\n",
    "json_data = string_with_json_obj[ind_start:ind_end]\n",
    "\n",
    "json_data = json_data.encode('utf8').decode('unicode_escape')"
   ]
  },
  {
   "cell_type": "code",
   "execution_count": 16,
   "metadata": {},
   "outputs": [
    {
     "ename": "SyntaxError",
     "evalue": "invalid syntax (<ipython-input-16-2e13786c8241>, line 14)",
     "output_type": "error",
     "traceback": [
      "\u001b[0;36m  File \u001b[0;32m\"<ipython-input-16-2e13786c8241>\"\u001b[0;36m, line \u001b[0;32m14\u001b[0m\n\u001b[0;31m    Print pretty JSON data to check out what we have there\u001b[0m\n\u001b[0m          ^\u001b[0m\n\u001b[0;31mSyntaxError\u001b[0m\u001b[0;31m:\u001b[0m invalid syntax\n"
     ]
    }
   ],
   "source": [
    "# convert JSON data into Python dictionary\n",
    "data = json.loads(json_data)\n",
    "# print(data)\n",
    "print(data.keys())\n",
    "print('='*50)\n",
    "print(data['138'].keys())\n",
    "print('='*50)\n",
    "print(data['138']['id'])\n",
    "print('='*50)\n",
    "print(data['138']['title'])\n",
    "print('='*50)\n",
    "print(data['138']['history'][0])\n",
    "\n",
    "# Print pretty JSON data to check out what we have there\n",
    "s = json.dumps(data, indent=4, sort_keys=True)\n",
    "print(s)"
   ]
  },
  {
   "cell_type": "code",
   "execution_count": null,
   "metadata": {},
   "outputs": [],
   "source": []
  }
 ],
 "metadata": {
  "kernelspec": {
   "display_name": "Python 3",
   "language": "python",
   "name": "python3"
  },
  "language_info": {
   "codemirror_mode": {
    "name": "ipython",
    "version": 3
   },
   "file_extension": ".py",
   "mimetype": "text/x-python",
   "name": "python",
   "nbconvert_exporter": "python",
   "pygments_lexer": "ipython3",
   "version": "3.8.5"
  }
 },
 "nbformat": 4,
 "nbformat_minor": 4
}
